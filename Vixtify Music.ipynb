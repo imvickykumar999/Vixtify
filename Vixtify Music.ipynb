{
 "cells": [
  {
   "cell_type": "code",
   "execution_count": 1,
   "metadata": {},
   "outputs": [],
   "source": [
    "# !pip install spotipy --upgrade"
   ]
  },
  {
   "cell_type": "code",
   "execution_count": 4,
   "metadata": {},
   "outputs": [],
   "source": [
    "client_id = '4a05ec0273d64243990bfee317f48246'\n",
    "client_secret = '*********************'\n",
    "\n",
    "# https://developer.spotify.com/dashboard/applications/4a05ec0273d64243990bfee317f48246/users"
   ]
  },
  {
   "cell_type": "code",
   "execution_count": 5,
   "metadata": {},
   "outputs": [
    {
     "name": "stdout",
     "output_type": "stream",
     "text": [
      "0 Say It Ain't So\n",
      "1 Island In The Sun\n",
      "2 Undone - The Sweater Song\n",
      "3 Buddy Holly\n",
      "4 Beverly Hills\n",
      "5 Africa\n",
      "6 Hash Pipe\n",
      "7 All My Favorite Songs (feat. AJR)\n",
      "8 My Name Is Jonas\n",
      "9 Enter Sandman\n",
      "10 Pork And Beans\n",
      "11 Lost in the Woods - Weezer Version\n",
      "12 Take on Me\n",
      "13 We Wish You A Merry Christmas\n",
      "14 All My Favorite Songs\n",
      "15 All My Favorite Songs\n",
      "16 Pink Triangle\n",
      "17 All My Favorite Songs\n",
      "18 (If You're Wondering If I Want You To) I Want You To\n",
      "19 El Scorcho\n"
     ]
    }
   ],
   "source": [
    "import spotipy\n",
    "from spotipy.oauth2 import SpotifyClientCredentials\n",
    "\n",
    "ClientCredentials = SpotifyClientCredentials( client_id = client_id, client_secret = client_secret ) \n",
    "sp = spotipy.Spotify( auth_manager = ClientCredentials )\n",
    "\n",
    "results = sp.search(q='weezer', limit=20)\n",
    "for idx, track in enumerate(results['tracks']['items']):\n",
    "    print(idx, track['name'])"
   ]
  },
  {
   "cell_type": "markdown",
   "metadata": {},
   "source": [
    "<iframe src=\"https://open.spotify.com/embed/album/0dL9rGQxUeIqpiUndXaQLl?utm_source=generator\" width=\"100%\" height=\"380\" frameBorder=\"0\" allowfullscreen=\"\" allow=\"autoplay; clipboard-write; encrypted-media; fullscreen; picture-in-picture\"></iframe>"
   ]
  },
  {
   "cell_type": "code",
   "execution_count": null,
   "metadata": {},
   "outputs": [],
   "source": [
    "# https://www.programcreek.com/python/example/107939/spotipy.oauth2.SpotifyClientCredentials"
   ]
  },
  {
   "cell_type": "code",
   "execution_count": null,
   "metadata": {},
   "outputs": [],
   "source": [
    "# https://spotipy.readthedocs.io/en/2.16.1/"
   ]
  },
  {
   "cell_type": "code",
   "execution_count": null,
   "metadata": {},
   "outputs": [],
   "source": [
    "# https://github.com/plamere/spotipy"
   ]
  },
  {
   "cell_type": "code",
   "execution_count": null,
   "metadata": {},
   "outputs": [],
   "source": [
    "# # !pip install ShazamAPI\n",
    "\n",
    "# from ShazamAPI import Shazam\n",
    "\n",
    "# mp3_file_content_to_recognize = open('test.mp3', 'rb').read()  \n",
    "\n",
    "# shazam = Shazam(mp3_file_content_to_recognize)\n",
    "# recognize_generator = shazam.recognizeSong()\n",
    "\n",
    "# while True:\n",
    "#     print(next(recognize_generator)) # current offset & shazam response to recognize requests"
   ]
  },
  {
   "cell_type": "code",
   "execution_count": null,
   "metadata": {},
   "outputs": [],
   "source": [
    "# # !pip install shazamio\n",
    "# https://github.com/imvickykumar999/ShazamIO\n",
    "\n",
    "# import asyncio\n",
    "# from shazamio import Shazam\n",
    "\n",
    "# async def main():\n",
    "#     shazam = Shazam()\n",
    "#     track_id = 546891609\n",
    "#     related = await shazam.related_tracks(track_id=track_id, limit=5, start_from=2)\n",
    "#     # ONLY №3, №4 SONG\n",
    "#     print(related) \n",
    "\n",
    "# loop = asyncio.get_event_loop()\n",
    "# loop.run_until_complete(main())"
   ]
  },
  {
   "cell_type": "code",
   "execution_count": 6,
   "metadata": {},
   "outputs": [],
   "source": [
    "# # !pip install nest-asyncio\n",
    "\n",
    "# import nest_asyncio\n",
    "# nest_asyncio.apply()\n",
    "# __import__('IPython').embed()"
   ]
  },
  {
   "cell_type": "code",
   "execution_count": null,
   "metadata": {},
   "outputs": [],
   "source": []
  }
 ],
 "metadata": {
  "kernelspec": {
   "display_name": "Python 3",
   "language": "python",
   "name": "python3"
  },
  "language_info": {
   "codemirror_mode": {
    "name": "ipython",
    "version": 3
   },
   "file_extension": ".py",
   "mimetype": "text/x-python",
   "name": "python",
   "nbconvert_exporter": "python",
   "pygments_lexer": "ipython3",
   "version": "3.8.3"
  }
 },
 "nbformat": 4,
 "nbformat_minor": 4
}
